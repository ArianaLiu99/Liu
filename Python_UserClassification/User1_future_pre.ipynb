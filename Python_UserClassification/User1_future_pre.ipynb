{
 "cells": [
  {
   "cell_type": "code",
   "execution_count": 2,
   "metadata": {},
   "outputs": [
    {
     "name": "stdout",
     "output_type": "stream",
     "text": [
      "[['4' '4' '0' ... '0' '0' '0']\n",
      " ['3' '3' '3' ... '3' '3' '2']\n",
      " ['4' '4' '0' ... '0' '0' '0']\n",
      " ...\n",
      " ['4' '4' '0' ... '0' '0' '0']\n",
      " ['4' '4' '0' ... '0' '0' '0']\n",
      " ['4' '4' '0' ... '0' '0' '0']]\n",
      "['4' '4' '0' '0' '0' '0' '0' '0' '0' '0' '0' '0']\n"
     ]
    }
   ],
   "source": [
    "import xlrd\n",
    "import xlwt\n",
    "import numpy as np\n",
    "data = xlrd.open_workbook('data_sep.xls')\n",
    "\n",
    "pre_result=[]\n",
    "for x in range(4918,5462):\n",
    "    one_result=[]\n",
    "#    row =table.row_values(x)\n",
    "    for i in range(0,12):\n",
    "        table = data.sheets()[i]\n",
    "        one_result.append(table.cell(x,14).value)\n",
    "    pre_result.append(one_result)\n",
    "\n",
    "pre_results=np.array(pre_result)\n",
    "print(pre_results)\n",
    "print(pre_results[0])"
   ]
  },
  {
   "cell_type": "code",
   "execution_count": 3,
   "metadata": {
    "collapsed": true
   },
   "outputs": [],
   "source": [
    "f=xlwt.Workbook()\n",
    "row0 = [\"month\",\"grade\"]\n",
    "sheet1=f.add_sheet('User1',cell_overwrite_ok=True)\n",
    "for c in range(0,2):\n",
    "    sheet1.write(0,c,row0[c]) \n",
    "    \n",
    "for i in range(1,13):\n",
    "    sheet1.write(i,0,i)\n",
    "    \n",
    "for j in range (1,13):\n",
    "    sheet1.write(j,1,pre_results[0][j-1])\n",
    "\n",
    "f.save('user_grade.xls')"
   ]
  },
  {
   "cell_type": "code",
   "execution_count": 4,
   "metadata": {},
   "outputs": [
    {
     "name": "stderr",
     "output_type": "stream",
     "text": [
      "D:\\Anaconda\\Anaconda3\\lib\\site-packages\\sklearn\\cross_validation.py:41: DeprecationWarning: This module was deprecated in version 0.18 in favor of the model_selection module into which all the refactored classes and functions are moved. Also note that the interface of the new CV iterators are different from that of this module. This module will be removed in 0.20.\n",
      "  \"This module will be removed in 0.20.\", DeprecationWarning)\n"
     ]
    },
    {
     "data": {
      "text/html": [
       "<div>\n",
       "<style>\n",
       "    .dataframe thead tr:only-child th {\n",
       "        text-align: right;\n",
       "    }\n",
       "\n",
       "    .dataframe thead th {\n",
       "        text-align: left;\n",
       "    }\n",
       "\n",
       "    .dataframe tbody tr th {\n",
       "        vertical-align: top;\n",
       "    }\n",
       "</style>\n",
       "<table border=\"1\" class=\"dataframe\">\n",
       "  <thead>\n",
       "    <tr style=\"text-align: right;\">\n",
       "      <th></th>\n",
       "      <th>month</th>\n",
       "      <th>grade</th>\n",
       "    </tr>\n",
       "  </thead>\n",
       "  <tbody>\n",
       "    <tr>\n",
       "      <th>0</th>\n",
       "      <td>1</td>\n",
       "      <td>4</td>\n",
       "    </tr>\n",
       "    <tr>\n",
       "      <th>1</th>\n",
       "      <td>2</td>\n",
       "      <td>4</td>\n",
       "    </tr>\n",
       "    <tr>\n",
       "      <th>2</th>\n",
       "      <td>3</td>\n",
       "      <td>0</td>\n",
       "    </tr>\n",
       "    <tr>\n",
       "      <th>3</th>\n",
       "      <td>4</td>\n",
       "      <td>0</td>\n",
       "    </tr>\n",
       "    <tr>\n",
       "      <th>4</th>\n",
       "      <td>5</td>\n",
       "      <td>0</td>\n",
       "    </tr>\n",
       "  </tbody>\n",
       "</table>\n",
       "</div>"
      ],
      "text/plain": [
       "   month  grade\n",
       "0      1      4\n",
       "1      2      4\n",
       "2      3      0\n",
       "3      4      0\n",
       "4      5      0"
      ]
     },
     "execution_count": 4,
     "metadata": {},
     "output_type": "execute_result"
    }
   ],
   "source": [
    "import pandas as pd\n",
    "import numpy as np\n",
    "import matplotlib.pyplot as plt\n",
    "from pandas import DataFrame,Series\n",
    "from sklearn.cross_validation import train_test_split\n",
    "from sklearn.linear_model import LinearRegression\n",
    " \n",
    "user1 = pd.read_excel('user_grade.xls')\n",
    "user1 = DataFrame(user1)\n",
    "user1.head()"
   ]
  },
  {
   "cell_type": "code",
   "execution_count": 4,
   "metadata": {},
   "outputs": [
    {
     "data": {
      "image/png": "[encoded data removed]",
      "text/plain": [
       "<matplotlib.figure.Figure at 0x16f4d9b0>"
      ]
     },
     "metadata": {},
     "output_type": "display_data"
    }
   ],
   "source": [
    "#scatter plot\n",
    "plt.scatter(user1.month,user1.grade,color = 'red',label = \"user1\")\n",
    "plt.xlabel(\"Month\")\n",
    "plt.ylabel(\"User1 Grade\")\n",
    "plt.show()\n",
    "\n",
    "#user1 = pre_results[0]\n",
    "#month=[1,2,3,4,5,6,7,8,9,10,11,12]\n",
    "\n",
    "#plt.plot(month,user1, 'ro')\n",
    "#plt.xlabel(\"Month\")\n",
    "#plt.ylabel(\"User1 Grade\")\n",
    "#plt.show()"
   ]
  },
  {
   "cell_type": "code",
   "execution_count": 5,
   "metadata": {},
   "outputs": [
    {
     "data": {
      "image/png": "[encoded data removed]",
      "text/plain": [
       "<matplotlib.figure.Figure at 0x18ffbb38>"
      ]
     },
     "metadata": {},
     "output_type": "display_data"
    }
   ],
   "source": [
    "X_train,X_test,Y_train,Y_test = train_test_split(user1.month,user1.grade,train_size=0.8)\n",
    "\n",
    "plt.scatter(X_train, Y_train, color=\"darkgreen\", label=\"train data\")\n",
    "plt.scatter(X_test, Y_test, color=\"red\", label=\"test data\")\n",
    " \n",
    "plt.legend(loc=1)\n",
    "plt.xlabel(\"Month\")\n",
    "plt.ylabel(\"User1 Grade\")\n",
    "plt.show()"
   ]
  },
  {
   "cell_type": "code",
   "execution_count": 7,
   "metadata": {},
   "outputs": [
    {
     "data": {
      "image/png": "[encoded data removed]",
      "text/plain": [
       "<matplotlib.figure.Figure at 0x1915f4e0>"
      ]
     },
     "metadata": {},
     "output_type": "display_data"
    },
    {
     "name": "stdout",
     "output_type": "stream",
     "text": [
      "Fitting parameters: intercept 1.9999999999999996 ,regression coefficient： [-0.21538462]\n",
      "Best Fitting Line: Y =  2.0 + -0.22 * X\n"
     ]
    }
   ],
   "source": [
    "model = LinearRegression()\n",
    "\n",
    "X_train = X_train.values.reshape(-1,1)\n",
    "X_test = X_test.values.reshape(-1,1)\n",
    " \n",
    "model.fit(X_train,Y_train)\n",
    " \n",
    "a  = model.intercept_\n",
    "b = model.coef_\n",
    " \n",
    "y_train_pred = model.predict(X_train)\n",
    "plt.plot(X_train, y_train_pred, color='blue', linewidth=2, label=\"best line\")\n",
    " \n",
    "plt.scatter(X_train, Y_train, color='darkgreen', label=\"train data\")\n",
    "plt.scatter(X_test, Y_test, color='red', label=\"test data\")\n",
    "\n",
    "plt.legend(loc=1)\n",
    "plt.xlabel(\"Month\")\n",
    "plt.ylabel(\"User1 Grade\")\n",
    "plt.show()\n",
    " \n",
    "print(\"Fitting parameters: intercept\",a,\",regression coefficient：\",b)\n",
    "print(\"Best Fitting Line: Y = \",round(a,2),\"+\",round(b[0],2),\"* X\")"
   ]
  },
  {
   "cell_type": "code",
   "execution_count": 8,
   "metadata": {},
   "outputs": [
    {
     "name": "stdout",
     "output_type": "stream",
     "text": [
      "cost:  2.6180832\n",
      "W： [[-0.14391834  0.13006616  0.5424655   0.5843612  -0.6743386   0.31244984\n",
      "  -0.74233174  0.5401836  -0.08524445  0.48867765]]  b:  [ 0.05265851  0.19742832 -0.13561505  0.0264616  -0.18663651 -0.03117295\n",
      " -0.03608709  0.0946072  -0.13917738  0.02024307]\n",
      "4\n"
     ]
    },
    {
     "data": {
      "image/png": "[encoded data removed]",
      "text/plain": [
       "<matplotlib.figure.Figure at 0x1bfc8d30>"
      ]
     },
     "metadata": {},
     "output_type": "display_data"
    }
   ],
   "source": [
    "import keras\n",
    "import numpy as np\n",
    "import matplotlib.pyplot as plt\n",
    "from keras.models import Sequential\n",
    "from keras.layers import Dense, Activation\n",
    "from keras.optimizers import SGD\n",
    "\n",
    "model = Sequential()\n",
    "\n",
    "model.add(Dense(units=10, input_dim=1))\n",
    "model.add(Activation('tanh'))\n",
    "model.add(Dense(units=1))\n",
    "model.add(Activation('tanh'))\n",
    "\n",
    "sgd = SGD(lr=0.3)\n",
    "\n",
    "model.compile(optimizer=sgd, loss='mse')\n",
    "\n",
    "for step in range(3):\n",
    "    cost = model.train_on_batch(user1.month,user1.grade)\n",
    "    if step % 6 == 0:\n",
    "        print('cost: ', cost)\n",
    "\n",
    "W, b = model.layers[0].get_weights()\n",
    "print('W：', W, ' b: ', b)\n",
    "print(len(model.layers))\n",
    "\n",
    "y_pred = model.predict(user1.month)\n",
    "\n",
    "plt.scatter(user1.month,user1.grade)\n",
    "plt.plot(user1.month,user1.grade, 'r-', lw=2, label=\"best line\")\n",
    "plt.legend(loc=1)\n",
    "plt.xlabel(\"Month\")\n",
    "plt.ylabel(\"User1 Grade\")\n",
    "plt.show()\n"
   ]
  },
  {
   "cell_type": "code",
   "execution_count": 20,
   "metadata": {},
   "outputs": [
    {
     "name": "stdout",
     "output_type": "stream",
     "text": [
      "Result of weighted average is 0.12244897959183673\n",
      "The user grade prediction of the first user by weighted average is  0\n"
     ]
    }
   ],
   "source": [
    "u1 = pre_results[0]\n",
    "WA_result=(int(u1[0])*1+int(u1[1])*2+int(u1[2])*3+int(u1[3])*4+int(u1[4])*5+int(u1[5])*6+int(u1[6])*7+\n",
    "           int(u1[7])*8+int(u1[8])*9+int(u1[9])*10+int(u1[10])*11+int(u1[11])*12)/98\n",
    "print(\"Result of weighted average is\",WA_result)\n",
    "print(\"The user grade prediction of the first user by weighted average is \", round(WA_result))"
   ]
  }
 ],
 "metadata": {
  "kernelspec": {
   "display_name": "Python 3",
   "language": "python",
   "name": "python3"
  },
  "language_info": {
   "codemirror_mode": {
    "name": "ipython",
    "version": 3
   },
   "file_extension": ".py",
   "mimetype": "text/x-python",
   "name": "python",
   "nbconvert_exporter": "python",
   "pygments_lexer": "ipython3",
   "version": "3.6.3"
  }
 },
 "nbformat": 4,
 "nbformat_minor": 2
}
